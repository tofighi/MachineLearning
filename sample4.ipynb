{
  "nbformat": 4,
  "nbformat_minor": 0,
  "metadata": {
    "colab": {
      "name": "sample3.ipynb",
      "provenance": [],
      "collapsed_sections": [],
      "toc_visible": true,
      "authorship_tag": "ABX9TyPWLFO8wbKChSTj/7UiAWcb",
      "include_colab_link": true
    },
    "kernelspec": {
      "name": "python3",
      "display_name": "Python 3"
    },
    "accelerator": "GPU"
  },
  "cells": [
    {
      "cell_type": "markdown",
      "metadata": {
        "id": "view-in-github",
        "colab_type": "text"
      },
      "source": [
        "<a href=\"https://colab.research.google.com/github/tofighi/MachineLearning/blob/master/sample4.ipynb\" target=\"_parent\"><img src=\"https://colab.research.google.com/assets/colab-badge.svg\" alt=\"Open In Colab\"/></a>"
      ]
    },
    {
      "cell_type": "code",
      "metadata": {
        "id": "ZDSTv0msWo36"
      },
      "source": [
        "import cv2\n",
        "import numpy as np\n",
        "import argparse\n",
        "import imutils\n",
        "import time\n",
        "import cv2\n",
        "import os\n",
        "from matplotlib import pyplot as plt\n",
        "\n",
        "\n",
        "args = {}\n",
        "args[\"start_frame\"] = 1\n",
        "args[\"end_frame\"] = 2\n",
        "args[\"yolo\"] = \"yolo-coco\"\n",
        "args[\"confidence\"] = 0.01\n",
        "args[\"threshold\"] = 0.01\n",
        "args[\"input\"] = \"obstacle.mp4\"\n",
        "args[\"input_depth\"] = \"obstacle_depth.mp4\"\n",
        "args[\"output\"] = \"obstacle_out.mp4\"\n",
        "args[\"output_depth\"] = \"obstacle_depth_out.mp4\"\n",
        "args[\"obstacles\"] = [\"car\"]"
      ],
      "execution_count": 7,
      "outputs": []
    },
    {
      "cell_type": "code",
      "metadata": {
        "id": "v_FUIXWOjSrN"
      },
      "source": [
        "!wget -q https://sinamedialab.com/repository/documents/alfred/obstacle.mp4 -O obstacle.mp4\n",
        "!wget -q https://sinamedialab.com/repository/documents/alfred/obstacle_depth.mp4 -O obstacle_depth.mp4"
      ],
      "execution_count": null,
      "outputs": []
    },
    {
      "cell_type": "markdown",
      "metadata": {
        "id": "n5fnn_UHhwxG"
      },
      "source": [
        "# Download object detection models"
      ]
    },
    {
      "cell_type": "code",
      "metadata": {
        "id": "4L4EaNxBZvy-"
      },
      "source": [
        "!mkdir yolo-coco \n",
        "!wget -q https://sinamedialab.com/repository/documents/alfred/yolo-coco/coco.names -O /content/yolo-coco/coco.names\n",
        "!wget -q https://sinamedialab.com/repository/documents/alfred/yolo-coco/yolov3.weights -O /content/yolo-coco/yolov3.weights\n",
        "!wget -q https://sinamedialab.com/repository/documents/alfred/yolo-coco/yolov3.cfg -O /content/yolo-coco/yolov3.cfg"
      ],
      "execution_count": null,
      "outputs": []
    },
    {
      "cell_type": "markdown",
      "metadata": {
        "id": "zXPmuwoJiFjE"
      },
      "source": [
        "# Object Detection"
      ]
    },
    {
      "cell_type": "code",
      "metadata": {
        "id": "5X3hG7wIbeAD",
        "colab": {
          "base_uri": "https://localhost:8080/",
          "height": 277
        },
        "outputId": "3b8bc157-9a14-48db-8584-1b3c5ca9294b"
      },
      "source": [
        "args[\"start_frame\"] = 1\n",
        "args[\"end_frame\"] = 10\n",
        "\n",
        "def inROI(x, y, w, h,contour):\n",
        "\tcenter_x = int (x+w/2)\n",
        "\tcenter_y = int (y+h/2)\n",
        "\treturn (cv2.pointPolygonTest(contour, (center_x,center_y), False)>=0) #return 0 or 1 if inside\n",
        " \n",
        "# load the COCO class labels our YOLO model was trained on\n",
        "labelsPath = os.path.sep.join([args[\"yolo\"], \"coco.names\"])\n",
        "LABELS = open(labelsPath).read().strip().split(\"\\n\")\n",
        "\n",
        "# initialize a list of colors to represent each possible class label\n",
        "np.random.seed(42)\n",
        "COLORS = np.random.randint(0, 255, size=(len(LABELS), 3),\n",
        "\tdtype=\"uint8\")\n",
        "\n",
        "# derive the paths to the YOLO weights and model configuration\n",
        "weightsPath = os.path.sep.join([args[\"yolo\"], \"yolov3.weights\"])\n",
        "configPath = os.path.sep.join([args[\"yolo\"], \"yolov3.cfg\"])\n",
        "\n",
        "# load our YOLO object detector trained on COCO dataset (80 classes)\n",
        "# and determine only the *output* layer names that we need from YOLO\n",
        "print(\"[INFO] loading YOLO from disk...\")\n",
        "net = cv2.dnn.readNetFromDarknet(configPath, weightsPath)\n",
        "ln = net.getLayerNames()\n",
        "ln = [ln[i[0] - 1] for i in net.getUnconnectedOutLayers()]\n",
        "\n",
        "# initialize the video stream, pointer to output video file, and\n",
        "# frame dimensions\n",
        "vs = cv2.VideoCapture(args[\"input\"])\n",
        "vs_depth = cv2.VideoCapture(args[\"input_depth\"])\n",
        "\n",
        "writer = None\n",
        "writer2 = None\n",
        "(W, H) = (None, None)\n",
        "\n",
        "# try to determine the total number of frames in the video file\n",
        "try:\n",
        "\tprop = cv2.cv.CV_CAP_PROP_FRAME_COUNT if imutils.is_cv2() \\\n",
        "\t\telse cv2.CAP_PROP_FRAME_COUNT\n",
        "\ttotal = int(vs.get(prop))\n",
        "\t#print(\"[INFO] {} total frames in video\".format(total))\n",
        "\tif args[\"end_frame\"]>total:\n",
        "\t\targs[\"end_frame\"] = total\n",
        "\tprint(\"[INFO] {} total frames in video\".format(args[\"end_frame\"]-args[\"start_frame\"]))\n",
        "\n",
        "# an error occurred while trying to determine the total\n",
        "# number of frames in the video file\n",
        "except:\n",
        "\tprint(\"[INFO] could not determine # of frames in video\")\n",
        "\tprint(\"[INFO] no approx. completion time can be provided\")\n",
        "\ttotal = -1\n",
        "\n",
        "# loop over frames from the video file stream\n",
        "count = 0\n",
        "while True:\n",
        "\t# read the next frame from the file\n",
        "\t(grabbed, frame) = vs.read()\n",
        "\t(grabbed_depth, frame_depth) = vs_depth.read()\n",
        "\t# if the frame was not grabbed, then we have reached the end\n",
        "\t# of the stream\n",
        "\tcount = count+1\n",
        "\tif (count < args['start_frame']):\n",
        "\t\tcontinue;\n",
        "\telif (count > args['end_frame']):\n",
        "\t\tbreak;\n",
        "\t#if (count == 200):\n",
        "\t#\tbreak\n",
        "\tif not grabbed:\n",
        "\t\tbreak\n",
        "\tc1 = 50\n",
        "\tr1 = 50\n",
        "\t#frame = frame[c1:c1+100,r1:r1+100]\n",
        "\t# if the frame dimensions are empty, grab them\n",
        "\tif W is None or H is None:\n",
        "\t\t(H, W) = frame.shape[:2]\n",
        "\t\n",
        "\t#Define ROI for obstacles\n",
        "\tcnt = np.array([ [0,H], [0,H-100], [int(W/2)-100,int(H/2)],\n",
        "\t                   [int(W/2)+100,int(H/2)], [W,int(H/1.7)], [W,H]], \n",
        "\t\t\t\t\t\t\t\t\t\t         dtype=np.int32)\n",
        "\n",
        "\n",
        "\t# construct a blob from the input frame and then perform a forward\n",
        "\t# pass of the YOLO object detector, giving us our bounding boxes\n",
        "\t# and associated probabilities\n",
        "\tblob = cv2.dnn.blobFromImage(frame, 1 / 255.0, (416, 416),\n",
        "\t\tswapRB=True, crop=False)\n",
        "\tnet.setInput(blob)\n",
        "\tstart = time.time()\n",
        "\tlayerOutputs = net.forward(ln)\n",
        "\tend = time.time()\n",
        "\n",
        "\t# initialize our lists of detected bounding boxes, confidences,\n",
        "\t# and class IDs, respectively\n",
        "\tboxes = []\n",
        "\tconfidences = []\n",
        "\tclassIDs = []\n",
        "\tdepths = []\n",
        "\tstatus_code = 0\n",
        "\troi_mean_max = 0\n",
        "\tvalid_detection = False\n",
        "\t# loop over each of the layer outputs\n",
        "\tfor output in layerOutputs:\n",
        "\t\t# loop over each of the detections\n",
        "\t\tfor detection in output:\n",
        "\t\t\t# extract the class ID and confidence (i.e., probability)\n",
        "\t\t\t# of the current object detection\n",
        "\t\t\tscores = detection[5:]\n",
        "\t\t\tclassID = np.argmax(scores)\n",
        "\t\t\tconfidence = scores[classID]\n",
        "\t\t\t\n",
        "\n",
        "\n",
        "\t\t\t# filter out weak predictions by ensuring the detected\n",
        "\t\t\t# probability is greater than the minimum probability\n",
        "\t\t\t# if object is in list of obstacles\n",
        "\t\t\tif (confidence > args[\"confidence\"] and LABELS[classID] in args[\"obstacles\"] ):\n",
        "\t\t\t\t# scale the bounding box coordinates back relative to\n",
        "\t\t\t\t# the size of the image, keeping in mind that YOLO\n",
        "\t\t\t\t# actually returns the center (x, y)-coordinates of\n",
        "\t\t\t\t# the bounding box followed by the boxes' width and\n",
        "\t\t\t\t# height\n",
        "\n",
        "\t\t\t\t\n",
        "\t\t\t\tbox = detection[0:4] * np.array([W, H, W, H])\n",
        "\t\t\t\t(centerX, centerY, width, height) = box.astype(\"int\")\n",
        "\t\t\t\theight=int(height)\n",
        "\t\t\t\twidth=int(width)\n",
        "\t\t\t\t# use the center (x, y)-coordinates to derive the top\n",
        "\t\t\t\t# and and left corner of the bounding box\n",
        "\t\t\t\tx = int(centerX - (width / 2))\n",
        "\t\t\t\ty = int(centerY - (height / 2))\n",
        "\t\t\t\t#ignore left side\n",
        "\t\t\t\tif (x<0.5*W or not(inROI(x,y,width,height,cnt))):\n",
        "\t\t\t\t\tbreak\n",
        "\n",
        "\t\t\t\t\n",
        "\t\t\t\t\n",
        "\t\t\t\tROI = frame_depth[y:y+height, x:x+width]\n",
        "\t\t\t\t#imshow(ROI)\n",
        "\t\t\t\t#print(y,height,x,width)\n",
        "\t\t\t\troi_mean = np.mean(ROI)\n",
        "\t\t\t\t#print(roi_mean)\n",
        "\t\t\t\tif (roi_mean>roi_mean_max):\n",
        "\t\t\t\t\troi_mean_max = roi_mean\n",
        "\t\t\t\t\tx_max=x\n",
        "\t\t\t\t\ty_max=y\n",
        "\t\t\t\t\theight_max=height\n",
        "\t\t\t\t\twidth_max=width\n",
        "\t\t\t\t\tcID_max = classID\n",
        "\t\t\t\t\tc_max = float(confidence)\n",
        "\t\t \n",
        "\t\t\t\tif (roi_mean_max>0):\n",
        "\t\t\t\t\tvalid_detection = True #\n",
        "\n",
        "\t\t\t\t# update our list of bounding box coordinates,\n",
        "\t\t\t\t# confidences, and class IDs\n",
        "\t\t\t\t\n",
        "\t\t\t\t#boxes.append([x, y, int(width), int(height)])\n",
        "\t\t\t\t#confidences.append(float(confidence))\n",
        "\t\t\t\t#classIDs.append(classID)\n",
        "\n",
        "\t# apply non-maxima suppression to suppress weak, overlapping\n",
        "\t# bounding boxes\n",
        "\tcolor_red = (255,0,0)\n",
        "\tcolor_green = (0,255,0)\n",
        "\tcolor_orange = (255, 128, 0)\n",
        "\tcolor_blue = (0, 0, 255)\n",
        "\tcolor_white = (255,255,255)\n",
        "\tcolor_black = (0,0,0)\n",
        "\tstatus_colors = [color_green,color_red,color_blue]\n",
        "\n",
        "\t#draw board\n",
        "\tcv2.rectangle(frame, (40, 40), (420,220), color_white, -1)\n",
        "\tcv2.rectangle(frame_depth, (40, 40), (420,220), color_white, -1)\n",
        "\t\n",
        "\t#draw zone\n",
        "\tzw1 = int(.7*W)\n",
        "\tzw2 = int(W)\n",
        "\tzh1 = int(.5*H)\n",
        "\tzh2 = int(H)\n",
        "\tcv2.rectangle(frame, (zw1, zh1), (zw2,zh2), color_white, 1)\n",
        "\tcv2.rectangle(frame_depth, (zw1, zh1), (zw2,zh2), color_white, 1)\n",
        "\tROI = frame_depth[zh1:zh2, zw1:zw2]\n",
        "\tzone_depth = np.mean(ROI)\n",
        "\n",
        "\t#cv2.rectangle(frame_depth, (40, 40), (420,220), color_white, -1)\n",
        "\n",
        "\t#draw street\n",
        "\tcv2.drawContours(frame, [cnt], -1, (255,255,255), 3)\n",
        "\tcv2.drawContours(frame_depth, [cnt], -1, (255,255,255), 3)\n",
        "\n",
        "\tif (roi_mean_max>100 and valid_detection):\n",
        "\t\tstatus_code = 2\n",
        "\t\tboxes.append([x_max, y_max, width_max, height_max])\n",
        "\t\tconfidences.append(float(c_max))\n",
        "\t\tclassIDs.append(cID_max)\n",
        "\t\tdepths.append(roi_mean_max)\n",
        " \n",
        "\tidxs = cv2.dnn.NMSBoxes(boxes, confidences, args[\"confidence\"],\n",
        "\t\targs[\"threshold\"])\n",
        "\n",
        "\t# print messages to board\n",
        "\tb_frame = \"#\" + str(count)\n",
        "\tb_text1 = \"{}: {:.1f}\".format(\"Status\",status_code)\n",
        "\tb_text2 = \"{}: {:.1f}\".format(\"Depth\",roi_mean_max)\n",
        "\tb_text3 = \"{}: {:.1f}\".format(\"Z-Depth\",zone_depth)\t\n",
        "\tb_color = status_colors[status_code]\n",
        "\n",
        "\tcv2.putText(frame_depth, b_frame, (60, 65),\n",
        "\t\t\t\tcv2.FONT_HERSHEY_SIMPLEX, .8, color_black, 2)\n",
        " \n",
        "\tcv2.putText(frame_depth, b_text1, (150, 110),\n",
        "\t\t\t\tcv2.FONT_HERSHEY_SIMPLEX, 1, b_color, 2)\n",
        "\tcv2.putText(frame_depth, b_text2, (150, 150),\n",
        "\t\t\t\tcv2.FONT_HERSHEY_SIMPLEX, 1, b_color, 2)\n",
        "\tcv2.putText(frame_depth, b_text3, (150, 190),\n",
        "\t\t\t\tcv2.FONT_HERSHEY_SIMPLEX, 1, b_color, 2)\n",
        "\tcv2.circle(frame_depth,(100,120), 40, b_color, -1)\n",
        "\n",
        "\n",
        "\tcv2.putText(frame, b_frame, (60, 65),\n",
        "\t\t\t\tcv2.FONT_HERSHEY_SIMPLEX, .8, color_black, 2) \n",
        " \n",
        "\tcv2.putText(frame, b_text1, (150, 110),\n",
        "\t\t\t\tcv2.FONT_HERSHEY_SIMPLEX, 1, b_color, 2)\n",
        "\tcv2.putText(frame, b_text2, (150, 150),\n",
        "\t\t\t\tcv2.FONT_HERSHEY_SIMPLEX, 1, b_color, 2)\n",
        "\tcv2.putText(frame, b_text3, (150, 190),\n",
        "\t\t\t\tcv2.FONT_HERSHEY_SIMPLEX, 1, b_color, 2)\n",
        "\tcv2.circle(frame,(100,120), 40, b_color, -1)\t\n",
        "\t# ensure at least one detection exists\n",
        "\tif len(idxs) > 0:\n",
        "\t\t# loop over the indexes we are keeping\n",
        "\t\tfor i in idxs.flatten():\n",
        "\t\t\t# extract the bounding box coordinates\n",
        "\t\t\t(x, y) = (boxes[i][0], boxes[i][1])\n",
        "\t\t\t(w, h) = (boxes[i][2], boxes[i][3])\n",
        "\n",
        "\n",
        "\t\t\t# draw a bounding box rectangle and label on the frame\n",
        "\t\t\tcolor = [int(c) for c in COLORS[classIDs[i]]]\n",
        "\t\t\tcv2.rectangle(frame_depth, (x, y), (x + w, y + h), color, 2)\n",
        "\t\t\ttext = \"{}: {:.1f}\".format(LABELS[classIDs[i]],\n",
        "\t\t\t\tconfidences[i])\n",
        "\t\t\tcv2.putText(frame_depth, text, (x, y - 5),\n",
        "\t\t\t\tcv2.FONT_HERSHEY_SIMPLEX, 0.5, color, 2)\n",
        "\n",
        "\t\t\ttext2 = \"{}: {:.1f}\".format(\"Depth\",\n",
        "\t\t\t\tdepths[i])\n",
        "\t\t\tcv2.putText(frame_depth, text2, (x, y - 20),\n",
        "\t\t\t\tcv2.FONT_HERSHEY_SIMPLEX, 0.5, color, 2)\n",
        "\t\t\t#cv2.line(frame_depth, (W, int(H/1.5)), ( int(W/2)+100, int(H/2)), (255, 255, 255), thickness=2)\n",
        "\t\t\t#cv2.line(frame_depth, (0, H-100), (int(W/2)-100, int(H/2)), (255, 255, 255), thickness=3)\n",
        "\t\t\t\n",
        "\t\t\t#on original frame\n",
        "\t\t\t# draw a bounding box rectangle and label on the frame\n",
        "\t\t\tcv2.rectangle(frame, (x, y), (x + w, y + h), color, 2)\n",
        "\t\t\ttext = \"{}: {:.1f}\".format(LABELS[classIDs[i]],\n",
        "\t\t\t\tconfidences[i])\n",
        "\t\t\tcv2.putText(frame, text, (x, y - 5),\n",
        "\t\t\t\tcv2.FONT_HERSHEY_SIMPLEX, 0.5, color, 2)\n",
        "\n",
        "\t\t\ttext2 = \"{}: {:.1f}\".format(\"Depth\",\n",
        "\t\t\t\tdepths[i])\n",
        "\t\t\tcv2.putText(frame, text2, (x, y - 20),\n",
        "\t\t\t\tcv2.FONT_HERSHEY_SIMPLEX, 0.5, color, 2)\n",
        "\t\t\t#cv2.line(frame_depth, (W, int(H/1.5)), ( int(W/2)+100, int(H/2)), (255, 255, 255), thickness=2)\n",
        "\t\t\t#cv2.line(frame_depth, (0, H-100), (int(W/2)-100, int(H/2)), (255, 255, 255), thickness=3)\n",
        "\n",
        "\t\t\t\n",
        "\n",
        "\tplt.figure()\n",
        "\t#plt.imshow(frame_depth)\n",
        "\t#plt.figure()\n",
        "\t#plt.imshow(frame)\n",
        "\t \n",
        "\t# check if the video writer is None\n",
        "\tif writer is None:\n",
        "\t\t# initialize our video writer\n",
        "\t\tfourcc = cv2.VideoWriter_fourcc(*\"MJPG\")\n",
        "\t\twriter = cv2.VideoWriter(args[\"output\"], fourcc, 30,\n",
        "\t\t\t(frame.shape[1], frame.shape[0]), True)\n",
        "\n",
        "\t# check if the video writer is None\n",
        "\tif writer2 is None:\n",
        "\t\t# initialize our video writer\n",
        "\t\tfourcc = cv2.VideoWriter_fourcc(*\"MJPG\")\n",
        "\t\twriter2 = cv2.VideoWriter(args[\"output_depth\"], fourcc, 30,\n",
        "\t\t\t(frame_depth.shape[1], frame_depth.shape[0]), True)\n",
        "\n",
        "\t\t# some information on processing single frame\n",
        "\t\tif total > 0:\n",
        "\t\t\telap = (end - start)\n",
        "\t\t\tprint(\"[INFO] single frame took {:.4f} seconds\".format(elap))\n",
        "\t\t\t#print(\"[INFO] estimated total time to finish: {:.4f}\".format(\n",
        "\t\t\t#\telap * total))\n",
        "\t\t\tprint(\"[INFO] estimated total time to finish: {:.4f}\".format(elap * (args[\"end_frame\"]-args[\"start_frame\"])))\n",
        "\n",
        "\n",
        "\t# write the output frame to disk\n",
        "\twriter.write(frame)\n",
        "\twriter2.write(frame_depth)\n",
        "\n",
        "# release the file pointers\n",
        "print(\"[INFO] cleaning up...\")\n",
        "writer.release()\n",
        "writer2.release()\n",
        "vs.release()"
      ],
      "execution_count": 44,
      "outputs": [
        {
          "output_type": "stream",
          "text": [
            "[INFO] loading YOLO from disk...\n",
            "[INFO] 9 total frames in video\n",
            "[INFO] single frame took 2.0291 seconds\n",
            "[INFO] estimated total time to finish: 18.2621\n",
            "[INFO] cleaning up...\n"
          ],
          "name": "stdout"
        },
        {
          "output_type": "display_data",
          "data": {
            "text/plain": [
              "<Figure size 432x288 with 0 Axes>"
            ]
          },
          "metadata": {
            "tags": []
          }
        },
        {
          "output_type": "display_data",
          "data": {
            "text/plain": [
              "<Figure size 432x288 with 0 Axes>"
            ]
          },
          "metadata": {
            "tags": []
          }
        },
        {
          "output_type": "display_data",
          "data": {
            "text/plain": [
              "<Figure size 432x288 with 0 Axes>"
            ]
          },
          "metadata": {
            "tags": []
          }
        },
        {
          "output_type": "display_data",
          "data": {
            "text/plain": [
              "<Figure size 432x288 with 0 Axes>"
            ]
          },
          "metadata": {
            "tags": []
          }
        },
        {
          "output_type": "display_data",
          "data": {
            "text/plain": [
              "<Figure size 432x288 with 0 Axes>"
            ]
          },
          "metadata": {
            "tags": []
          }
        },
        {
          "output_type": "display_data",
          "data": {
            "text/plain": [
              "<Figure size 432x288 with 0 Axes>"
            ]
          },
          "metadata": {
            "tags": []
          }
        },
        {
          "output_type": "display_data",
          "data": {
            "text/plain": [
              "<Figure size 432x288 with 0 Axes>"
            ]
          },
          "metadata": {
            "tags": []
          }
        },
        {
          "output_type": "display_data",
          "data": {
            "text/plain": [
              "<Figure size 432x288 with 0 Axes>"
            ]
          },
          "metadata": {
            "tags": []
          }
        },
        {
          "output_type": "display_data",
          "data": {
            "text/plain": [
              "<Figure size 432x288 with 0 Axes>"
            ]
          },
          "metadata": {
            "tags": []
          }
        },
        {
          "output_type": "display_data",
          "data": {
            "text/plain": [
              "<Figure size 432x288 with 0 Axes>"
            ]
          },
          "metadata": {
            "tags": []
          }
        }
      ]
    }
  ]
}