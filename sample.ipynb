{
  "nbformat": 4,
  "nbformat_minor": 0,
  "metadata": {
    "colab": {
      "name": "sample.ipynb",
      "provenance": [],
      "collapsed_sections": [],
      "authorship_tag": "ABX9TyMytFGPk47GDjYHu6yR338t",
      "include_colab_link": true
    },
    "kernelspec": {
      "name": "python3",
      "display_name": "Python 3"
    }
  },
  "cells": [
    {
      "cell_type": "markdown",
      "metadata": {
        "id": "view-in-github",
        "colab_type": "text"
      },
      "source": [
        "<a href=\"https://colab.research.google.com/github/tofighi/MachineLearning/blob/master/sample.ipynb\" target=\"_parent\"><img src=\"https://colab.research.google.com/assets/colab-badge.svg\" alt=\"Open In Colab\"/></a>"
      ]
    },
    {
      "cell_type": "code",
      "metadata": {
        "id": "v_FUIXWOjSrN"
      },
      "source": [
        "!wget https://sinamedialab.com/repository/documents/datasets/bike/obstacle.mp4"
      ],
      "execution_count": null,
      "outputs": []
    },
    {
      "cell_type": "code",
      "metadata": {
        "id": "HQWPxkMJjPYH"
      },
      "source": [
        "import cv2\n",
        "import numpy as np\n",
        " \n",
        "cap = cv2.VideoCapture('/content/obstacle.mp4')\n",
        " \n",
        "fourcc = cv2.VideoWriter_fourcc(*'XVID')\n",
        "out = cv2.VideoWriter('output_obstacle.mp4',fourcc, 5, (1280,720))\n",
        " \n",
        "while True:\n",
        "    ret, frame = cap.read()\n",
        "    if ret == True:\n",
        "        b = cv2.resize(frame,(1280,720),fx=0,fy=0, interpolation = cv2.INTER_CUBIC)\n",
        "        out.write(b)\n",
        "    else:\n",
        "        break\n",
        "    \n",
        "cap.release()\n",
        "out.release()\n",
        "cv2.destroyAllWindows()"
      ],
      "execution_count": 3,
      "outputs": []
    },
    {
      "cell_type": "code",
      "metadata": {
        "id": "W5J6lGYRfyge",
        "outputId": "c7d9b9cb-8585-4904-f7a3-55a6db2b71e1",
        "colab": {
          "base_uri": "https://localhost:8080/",
          "height": 230
        }
      },
      "source": [
        ""
      ],
      "execution_count": 1,
      "outputs": [
        {
          "output_type": "stream",
          "text": [
            "--2020-09-28 20:56:49--  https://sinamedialab.com/repository/documents/datasets/bike/obstacle.mp4\n",
            "Resolving sinamedialab.com (sinamedialab.com)... 162.241.218.76\n",
            "Connecting to sinamedialab.com (sinamedialab.com)|162.241.218.76|:443... connected.\n",
            "HTTP request sent, awaiting response... 200 OK\n",
            "Length: 901404 (880K) [video/mp4]\n",
            "Saving to: ‘obstacle.mp4’\n",
            "\n",
            "obstacle.mp4        100%[===================>] 880.28K   915KB/s    in 1.0s    \n",
            "\n",
            "2020-09-28 20:56:51 (915 KB/s) - ‘obstacle.mp4’ saved [901404/901404]\n",
            "\n"
          ],
          "name": "stdout"
        }
      ]
    },
    {
      "cell_type": "code",
      "metadata": {
        "id": "lnaYxaISghh-"
      },
      "source": [
        ""
      ],
      "execution_count": null,
      "outputs": []
    }
  ]
}