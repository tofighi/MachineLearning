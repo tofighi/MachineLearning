{
  "nbformat": 4,
  "nbformat_minor": 0,
  "metadata": {
    "colab": {
      "name": "sample.ipynb",
      "provenance": [],
      "authorship_tag": "ABX9TyNBAZ93j8zQWsTSqR/WuYRF",
      "include_colab_link": true
    },
    "kernelspec": {
      "name": "python3",
      "display_name": "Python 3"
    }
  },
  "cells": [
    {
      "cell_type": "markdown",
      "metadata": {
        "id": "view-in-github",
        "colab_type": "text"
      },
      "source": [
        "<a href=\"https://colab.research.google.com/github/tofighi/MachineLearning/blob/master/sample.ipynb\" target=\"_parent\"><img src=\"https://colab.research.google.com/assets/colab-badge.svg\" alt=\"Open In Colab\"/></a>"
      ]
    },
    {
      "cell_type": "code",
      "metadata": {
        "id": "W5J6lGYRfyge",
        "outputId": "c7d9b9cb-8585-4904-f7a3-55a6db2b71e1",
        "colab": {
          "base_uri": "https://localhost:8080/",
          "height": 230
        }
      },
      "source": [
        "!wget https://sinamedialab.com/repository/documents/datasets/bike/obstacle.mp4"
      ],
      "execution_count": 1,
      "outputs": [
        {
          "output_type": "stream",
          "text": [
            "--2020-09-28 20:56:49--  https://sinamedialab.com/repository/documents/datasets/bike/obstacle.mp4\n",
            "Resolving sinamedialab.com (sinamedialab.com)... 162.241.218.76\n",
            "Connecting to sinamedialab.com (sinamedialab.com)|162.241.218.76|:443... connected.\n",
            "HTTP request sent, awaiting response... 200 OK\n",
            "Length: 901404 (880K) [video/mp4]\n",
            "Saving to: ‘obstacle.mp4’\n",
            "\n",
            "obstacle.mp4        100%[===================>] 880.28K   915KB/s    in 1.0s    \n",
            "\n",
            "2020-09-28 20:56:51 (915 KB/s) - ‘obstacle.mp4’ saved [901404/901404]\n",
            "\n"
          ],
          "name": "stdout"
        }
      ]
    },
    {
      "cell_type": "code",
      "metadata": {
        "id": "lnaYxaISghh-"
      },
      "source": [
        ""
      ],
      "execution_count": null,
      "outputs": []
    }
  ]
}