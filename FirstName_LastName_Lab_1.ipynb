{
  "nbformat": 4,
  "nbformat_minor": 0,
  "metadata": {
    "colab": {
      "provenance": [],
      "authorship_tag": "ABX9TyPIdk055hQyNvDptmEH/64W",
      "include_colab_link": true
    },
    "kernelspec": {
      "name": "python3",
      "display_name": "Python 3"
    },
    "language_info": {
      "name": "python"
    }
  },
  "cells": [
    {
      "cell_type": "markdown",
      "metadata": {
        "id": "view-in-github",
        "colab_type": "text"
      },
      "source": [
        "<a href=\"https://colab.research.google.com/github/tofighi/MachineLearning/blob/master/FirstName_LastName_Lab_1.ipynb\" target=\"_parent\"><img src=\"https://colab.research.google.com/assets/colab-badge.svg\" alt=\"Open In Colab\"/></a>"
      ]
    },
    {
      "cell_type": "markdown",
      "source": [
        "# Lab  #1\n",
        "\n",
        "First and Last Name: -------------\n",
        "\n",
        "Student ID: -------------\n",
        "\n",
        "Video URL: -----------------------"
      ],
      "metadata": {
        "id": "uaanFxysMcx_"
      }
    },
    {
      "cell_type": "code",
      "execution_count": 1,
      "metadata": {
        "id": "rcQnjqZmMcbK"
      },
      "outputs": [],
      "source": [
        "#You can create as many Code or Text cells\n",
        "#Write Python codes in Code cells \n",
        "#Answer Lab Questions in Text cells"
      ]
    }
  ]
}