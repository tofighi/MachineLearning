{
  "nbformat": 4,
  "nbformat_minor": 0,
  "metadata": {
    "colab": {
      "name": "PCA Numerical Example.ipynb",
      "version": "0.3.2",
      "provenance": [],
      "include_colab_link": true
    },
    "kernelspec": {
      "name": "python3",
      "display_name": "Python 3"
    }
  },
  "cells": [
    {
      "cell_type": "markdown",
      "metadata": {
        "id": "view-in-github",
        "colab_type": "text"
      },
      "source": [
        "<a href=\"https://colab.research.google.com/github/tofighi/MachineLearning/blob/master/PCA_Numerical_Example.ipynb\" target=\"_parent\"><img src=\"https://colab.research.google.com/assets/colab-badge.svg\" alt=\"Open In Colab\"/></a>"
      ]
    },
    {
      "cell_type": "markdown",
      "metadata": {
        "id": "lp0UR3U85dxo",
        "colab_type": "text"
      },
      "source": [
        "# PCA"
      ]
    },
    {
      "cell_type": "code",
      "metadata": {
        "id": "EprussRT5UlP",
        "colab_type": "code",
        "colab": {
          "base_uri": "https://localhost:8080/",
          "height": 359
        },
        "outputId": "92ff139e-b5a5-4314-8cd6-ed44f8dee19a"
      },
      "source": [
        "from io import StringIO\n",
        "import csv\n",
        "import pandas as pd\n",
        "import numpy as np\n",
        "from numpy import array\n",
        "from numpy import mean\n",
        "from numpy import cov\n",
        "from numpy.linalg import eig\n",
        "\n",
        "#\n",
        "data =\"\"\"\n",
        "x,y\n",
        "2.5,2.4\n",
        "0.5,0.7\n",
        "2.2,2.9\n",
        "1.9,2.2\n",
        "3.1,3\n",
        "2.3,2.7\n",
        "2,1.6\n",
        "1,1.1\n",
        "1.5,1.6\n",
        "1.1,0.9\n",
        "\"\"\"\n",
        "\n",
        "df = pd.read_csv(StringIO(data))\n",
        "df"
      ],
      "execution_count": 1,
      "outputs": [
        {
          "output_type": "execute_result",
          "data": {
            "text/html": [
              "<div>\n",
              "<style scoped>\n",
              "    .dataframe tbody tr th:only-of-type {\n",
              "        vertical-align: middle;\n",
              "    }\n",
              "\n",
              "    .dataframe tbody tr th {\n",
              "        vertical-align: top;\n",
              "    }\n",
              "\n",
              "    .dataframe thead th {\n",
              "        text-align: right;\n",
              "    }\n",
              "</style>\n",
              "<table border=\"1\" class=\"dataframe\">\n",
              "  <thead>\n",
              "    <tr style=\"text-align: right;\">\n",
              "      <th></th>\n",
              "      <th>x</th>\n",
              "      <th>y</th>\n",
              "    </tr>\n",
              "  </thead>\n",
              "  <tbody>\n",
              "    <tr>\n",
              "      <th>0</th>\n",
              "      <td>2.5</td>\n",
              "      <td>2.4</td>\n",
              "    </tr>\n",
              "    <tr>\n",
              "      <th>1</th>\n",
              "      <td>0.5</td>\n",
              "      <td>0.7</td>\n",
              "    </tr>\n",
              "    <tr>\n",
              "      <th>2</th>\n",
              "      <td>2.2</td>\n",
              "      <td>2.9</td>\n",
              "    </tr>\n",
              "    <tr>\n",
              "      <th>3</th>\n",
              "      <td>1.9</td>\n",
              "      <td>2.2</td>\n",
              "    </tr>\n",
              "    <tr>\n",
              "      <th>4</th>\n",
              "      <td>3.1</td>\n",
              "      <td>3.0</td>\n",
              "    </tr>\n",
              "    <tr>\n",
              "      <th>5</th>\n",
              "      <td>2.3</td>\n",
              "      <td>2.7</td>\n",
              "    </tr>\n",
              "    <tr>\n",
              "      <th>6</th>\n",
              "      <td>2.0</td>\n",
              "      <td>1.6</td>\n",
              "    </tr>\n",
              "    <tr>\n",
              "      <th>7</th>\n",
              "      <td>1.0</td>\n",
              "      <td>1.1</td>\n",
              "    </tr>\n",
              "    <tr>\n",
              "      <th>8</th>\n",
              "      <td>1.5</td>\n",
              "      <td>1.6</td>\n",
              "    </tr>\n",
              "    <tr>\n",
              "      <th>9</th>\n",
              "      <td>1.1</td>\n",
              "      <td>0.9</td>\n",
              "    </tr>\n",
              "  </tbody>\n",
              "</table>\n",
              "</div>"
            ],
            "text/plain": [
              "     x    y\n",
              "0  2.5  2.4\n",
              "1  0.5  0.7\n",
              "2  2.2  2.9\n",
              "3  1.9  2.2\n",
              "4  3.1  3.0\n",
              "5  2.3  2.7\n",
              "6  2.0  1.6\n",
              "7  1.0  1.1\n",
              "8  1.5  1.6\n",
              "9  1.1  0.9"
            ]
          },
          "metadata": {
            "tags": []
          },
          "execution_count": 1
        }
      ]
    },
    {
      "cell_type": "markdown",
      "metadata": {
        "id": "Bezi5VCSHaIV",
        "colab_type": "text"
      },
      "source": [
        "# Data Matrix (D)"
      ]
    },
    {
      "cell_type": "code",
      "metadata": {
        "id": "B8b3tKi49NTg",
        "colab_type": "code",
        "colab": {
          "base_uri": "https://localhost:8080/",
          "height": 187
        },
        "outputId": "75a5fc1d-383b-445b-ac2e-600f321f3b8d"
      },
      "source": [
        "# Define Data numeric values: D matrix)\n",
        "D = df.values\n",
        "print(D)"
      ],
      "execution_count": 2,
      "outputs": [
        {
          "output_type": "stream",
          "text": [
            "[[2.5 2.4]\n",
            " [0.5 0.7]\n",
            " [2.2 2.9]\n",
            " [1.9 2.2]\n",
            " [3.1 3. ]\n",
            " [2.3 2.7]\n",
            " [2.  1.6]\n",
            " [1.  1.1]\n",
            " [1.5 1.6]\n",
            " [1.1 0.9]]\n"
          ],
          "name": "stdout"
        }
      ]
    },
    {
      "cell_type": "markdown",
      "metadata": {
        "id": "-vcc-9km-h_P",
        "colab_type": "text"
      },
      "source": [
        "# Zero centered features (Z matrix)"
      ]
    },
    {
      "cell_type": "code",
      "metadata": {
        "id": "552E-v405Zc2",
        "colab_type": "code",
        "colab": {
          "base_uri": "https://localhost:8080/",
          "height": 255
        },
        "outputId": "d9cdcc5c-b7e1-4e19-e038-2d76b945819d"
      },
      "source": [
        "# calculate the mean of each column\n",
        "M = mean(D.T, axis=1)\n",
        "print('Mean of each column:')\n",
        "print(M)\n",
        "\n",
        "# center columns by subtracting column means\n",
        "print('\\nZero centered features: Z Matrix:')\n",
        "Z = D - M\n",
        "print(Z)"
      ],
      "execution_count": 3,
      "outputs": [
        {
          "output_type": "stream",
          "text": [
            "Mean of each column:\n",
            "[1.81 1.91]\n",
            "\n",
            "Zero centered features: Z Matrix:\n",
            "[[ 0.69  0.49]\n",
            " [-1.31 -1.21]\n",
            " [ 0.39  0.99]\n",
            " [ 0.09  0.29]\n",
            " [ 1.29  1.09]\n",
            " [ 0.49  0.79]\n",
            " [ 0.19 -0.31]\n",
            " [-0.81 -0.81]\n",
            " [-0.31 -0.31]\n",
            " [-0.71 -1.01]]\n"
          ],
          "name": "stdout"
        }
      ]
    },
    {
      "cell_type": "markdown",
      "metadata": {
        "id": "8zdTdHceAy8S",
        "colab_type": "text"
      },
      "source": [
        "# Covariance Matrix (COV)"
      ]
    },
    {
      "cell_type": "code",
      "metadata": {
        "id": "S_fN7mMr9bRz",
        "colab_type": "code",
        "colab": {
          "base_uri": "https://localhost:8080/",
          "height": 425
        },
        "outputId": "1071cc39-322d-4f05-a530-8f7b2819f67e"
      },
      "source": [
        "# calculate covariance matrix of centered matrix\n",
        "print('\\nZero centered matrix Z:')\n",
        "print(Z)\n",
        "\n",
        "print('\\nTranspose of Zero centered matrix Z.T:')\n",
        "print(Z.T)\n",
        "\n",
        "print('\\nCovarince Matrix: COV(from library):')\n",
        "COV = cov(Z.T)\n",
        "print(COV)\n",
        "\n",
        "print('\\nCovarince Matrix: COV(from formula):')\n",
        "\n",
        "# Dividing by number of records (len(C)) - 1\n",
        "COV= (1/(len(Z)-1)) * np.matmul(Z.T,Z)\n",
        "print(COV)"
      ],
      "execution_count": 4,
      "outputs": [
        {
          "output_type": "stream",
          "text": [
            "\n",
            "Zero centered matrix Z:\n",
            "[[ 0.69  0.49]\n",
            " [-1.31 -1.21]\n",
            " [ 0.39  0.99]\n",
            " [ 0.09  0.29]\n",
            " [ 1.29  1.09]\n",
            " [ 0.49  0.79]\n",
            " [ 0.19 -0.31]\n",
            " [-0.81 -0.81]\n",
            " [-0.31 -0.31]\n",
            " [-0.71 -1.01]]\n",
            "\n",
            "Transpose of Zero centered matrix Z.T:\n",
            "[[ 0.69 -1.31  0.39  0.09  1.29  0.49  0.19 -0.81 -0.31 -0.71]\n",
            " [ 0.49 -1.21  0.99  0.29  1.09  0.79 -0.31 -0.81 -0.31 -1.01]]\n",
            "\n",
            "Covarince Matrix: COV(from library):\n",
            "[[0.61655556 0.61544444]\n",
            " [0.61544444 0.71655556]]\n",
            "\n",
            "Covarince Matrix: COV(from formula):\n",
            "[[0.61655556 0.61544444]\n",
            " [0.61544444 0.71655556]]\n"
          ],
          "name": "stdout"
        }
      ]
    },
    {
      "cell_type": "code",
      "metadata": {
        "id": "cgayy7X-Au4q",
        "colab_type": "code",
        "colab": {
          "base_uri": "https://localhost:8080/",
          "height": 119
        },
        "outputId": "1a4b6053-82a5-4c8b-a5d1-2adbc04034ed"
      },
      "source": [
        "# eigendecomposition of covariance matrix\n",
        "values, vectors = eig(COV)\n",
        "print(f'Eigen values:\\n {values}')\n",
        "print(f'\\nEigen vectors:\\n {vectors}')"
      ],
      "execution_count": 5,
      "outputs": [
        {
          "output_type": "stream",
          "text": [
            "Eigen values:\n",
            " [0.0490834  1.28402771]\n",
            "\n",
            "Eigen vectors:\n",
            " [[-0.73517866 -0.6778734 ]\n",
            " [ 0.6778734  -0.73517866]]\n"
          ],
          "name": "stdout"
        }
      ]
    },
    {
      "cell_type": "markdown",
      "metadata": {
        "id": "ReI-PKrCU--C",
        "colab_type": "text"
      },
      "source": [
        "# Sorting Eigen vectors based on |Eigen values| (absolute values)"
      ]
    },
    {
      "cell_type": "code",
      "metadata": {
        "id": "upd1Syz0M3WH",
        "colab_type": "code",
        "colab": {
          "base_uri": "https://localhost:8080/",
          "height": 34
        },
        "outputId": "2a9e64d1-792d-4cc6-8b9d-00db81fc0468"
      },
      "source": [
        "sort_index = np.argsort(np.abs(values))\n",
        "\n",
        "print(f'Sorting the eigen vectors: {sort_index}')"
      ],
      "execution_count": 6,
      "outputs": [
        {
          "output_type": "stream",
          "text": [
            "Sorting the eigen vectors: [0 1]\n"
          ],
          "name": "stdout"
        }
      ]
    },
    {
      "cell_type": "markdown",
      "metadata": {
        "id": "RCI29HQSXJ-f",
        "colab_type": "text"
      },
      "source": [
        "# Calculating Transform Matrix"
      ]
    },
    {
      "cell_type": "code",
      "metadata": {
        "id": "nzZQh7zCU1AN",
        "colab_type": "code",
        "colab": {
          "base_uri": "https://localhost:8080/",
          "height": 68
        },
        "outputId": "a0c13e22-498c-4668-8cea-112c3a5d6c4d"
      },
      "source": [
        "transform_mat = []\n",
        "for i in sort_index:\n",
        "  transform_mat.append(vectors[i])\n",
        "\n",
        "transform_mat= np.column_stack(transform_mat)  \n",
        "print(f'Transform matrix:\\n {transform_mat}')\n"
      ],
      "execution_count": 7,
      "outputs": [
        {
          "output_type": "stream",
          "text": [
            "Transform matrix:\n",
            " [[-0.73517866  0.6778734 ]\n",
            " [-0.6778734  -0.73517866]]\n"
          ],
          "name": "stdout"
        }
      ]
    },
    {
      "cell_type": "markdown",
      "metadata": {
        "id": "mHWuhSQBXnfu",
        "colab_type": "text"
      },
      "source": [
        "# Calculating Principal components"
      ]
    },
    {
      "cell_type": "code",
      "metadata": {
        "id": "rZ34whNDWhHL",
        "colab_type": "code",
        "colab": {
          "base_uri": "https://localhost:8080/",
          "height": 425
        },
        "outputId": "d519e0ad-5894-417f-dd88-f8ffdaa36a3a"
      },
      "source": [
        "PC = np.matmul(Z,transform_mat)\n",
        "print('\\nZero centered matrix Z:')\n",
        "print(Z)\n",
        "print(f'\\nPrincipal Components:\\n {PC}')"
      ],
      "execution_count": 8,
      "outputs": [
        {
          "output_type": "stream",
          "text": [
            "\n",
            "Zero centered matrix Z:\n",
            "[[ 0.69  0.49]\n",
            " [-1.31 -1.21]\n",
            " [ 0.39  0.99]\n",
            " [ 0.09  0.29]\n",
            " [ 1.29  1.09]\n",
            " [ 0.49  0.79]\n",
            " [ 0.19 -0.31]\n",
            " [-0.81 -0.81]\n",
            " [-0.31 -0.31]\n",
            " [-0.71 -1.01]]\n",
            "\n",
            "Principal Components:\n",
            " [[-8.39431238e-01  1.07495104e-01]\n",
            " [ 1.78331085e+00  1.55202114e-03]\n",
            " [-9.57814340e-01 -4.63456244e-01]\n",
            " [-2.62749365e-01 -1.52193204e-01]\n",
            " [-1.68726247e+00  7.31119496e-02]\n",
            " [-8.95757526e-01 -2.48633173e-01]\n",
            " [ 7.04568090e-02  3.56701329e-01]\n",
            " [ 1.14457216e+00  4.64172582e-02]\n",
            " [ 4.38046137e-01  1.77646297e-02]\n",
            " [ 1.20662898e+00  2.61240329e-01]]\n"
          ],
          "name": "stdout"
        }
      ]
    }
  ]
}