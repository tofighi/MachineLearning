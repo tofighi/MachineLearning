{
  "nbformat": 4,
  "nbformat_minor": 0,
  "metadata": {
    "colab": {
      "name": "knn-simple-example.ipynb",
      "provenance": [],
      "include_colab_link": true
    },
    "kernelspec": {
      "name": "python3",
      "display_name": "Python 3"
    }
  },
  "cells": [
    {
      "cell_type": "markdown",
      "metadata": {
        "id": "view-in-github",
        "colab_type": "text"
      },
      "source": [
        "<a href=\"https://colab.research.google.com/github/tofighi/MachineLearning/blob/master/knn_simple_example.ipynb\" target=\"_parent\"><img src=\"https://colab.research.google.com/assets/colab-badge.svg\" alt=\"Open In Colab\"/></a>"
      ]
    },
    {
      "cell_type": "code",
      "metadata": {
        "id": "3v9War4SFy6k",
        "colab": {
          "base_uri": "https://localhost:8080/",
          "height": 532
        },
        "outputId": "42e313ec-892c-4d8c-ac5a-eda7900f6764"
      },
      "source": [
        "from io import StringIO\n",
        "import pandas as pd\n",
        "import numpy as np\n",
        "import matplotlib.pyplot as plt\n",
        "\n",
        "data_class =\"\"\"\n",
        "x,y,Color\n",
        "-1,1,red\n",
        "0,1,blue\n",
        "0,2,red\n",
        "1,-1,red\n",
        "1,0,blue\n",
        "1,2,blue\n",
        "2,2,red\n",
        "2,3,blue\n",
        "\"\"\"\n",
        "\n",
        "df = pd.read_csv(StringIO(data_class))\n",
        "plt.scatter(df.x,df.y,c=df.Color)\n",
        "plt.grid(True)\n",
        "df"
      ],
      "execution_count": null,
      "outputs": [
        {
          "output_type": "execute_result",
          "data": {
            "text/html": [
              "<div>\n",
              "<style scoped>\n",
              "    .dataframe tbody tr th:only-of-type {\n",
              "        vertical-align: middle;\n",
              "    }\n",
              "\n",
              "    .dataframe tbody tr th {\n",
              "        vertical-align: top;\n",
              "    }\n",
              "\n",
              "    .dataframe thead th {\n",
              "        text-align: right;\n",
              "    }\n",
              "</style>\n",
              "<table border=\"1\" class=\"dataframe\">\n",
              "  <thead>\n",
              "    <tr style=\"text-align: right;\">\n",
              "      <th></th>\n",
              "      <th>x</th>\n",
              "      <th>y</th>\n",
              "      <th>Color</th>\n",
              "    </tr>\n",
              "  </thead>\n",
              "  <tbody>\n",
              "    <tr>\n",
              "      <th>0</th>\n",
              "      <td>-1</td>\n",
              "      <td>1</td>\n",
              "      <td>red</td>\n",
              "    </tr>\n",
              "    <tr>\n",
              "      <th>1</th>\n",
              "      <td>0</td>\n",
              "      <td>1</td>\n",
              "      <td>blue</td>\n",
              "    </tr>\n",
              "    <tr>\n",
              "      <th>2</th>\n",
              "      <td>0</td>\n",
              "      <td>2</td>\n",
              "      <td>red</td>\n",
              "    </tr>\n",
              "    <tr>\n",
              "      <th>3</th>\n",
              "      <td>1</td>\n",
              "      <td>-1</td>\n",
              "      <td>red</td>\n",
              "    </tr>\n",
              "    <tr>\n",
              "      <th>4</th>\n",
              "      <td>1</td>\n",
              "      <td>0</td>\n",
              "      <td>blue</td>\n",
              "    </tr>\n",
              "    <tr>\n",
              "      <th>5</th>\n",
              "      <td>1</td>\n",
              "      <td>2</td>\n",
              "      <td>blue</td>\n",
              "    </tr>\n",
              "    <tr>\n",
              "      <th>6</th>\n",
              "      <td>2</td>\n",
              "      <td>2</td>\n",
              "      <td>red</td>\n",
              "    </tr>\n",
              "    <tr>\n",
              "      <th>7</th>\n",
              "      <td>2</td>\n",
              "      <td>3</td>\n",
              "      <td>blue</td>\n",
              "    </tr>\n",
              "  </tbody>\n",
              "</table>\n",
              "</div>"
            ],
            "text/plain": [
              "   x  y Color\n",
              "0 -1  1   red\n",
              "1  0  1  blue\n",
              "2  0  2   red\n",
              "3  1 -1   red\n",
              "4  1  0  blue\n",
              "5  1  2  blue\n",
              "6  2  2   red\n",
              "7  2  3  blue"
            ]
          },
          "metadata": {
            "tags": []
          },
          "execution_count": 1
        },
        {
          "output_type": "display_data",
          "data": {
            "image/png": "[encoded data removed]",
            "text/plain": [
              "<Figure size 432x288 with 1 Axes>"
            ]
          },
          "metadata": {
            "tags": [],
            "needs_background": "light"
          }
        }
      ]
    },
    {
      "cell_type": "markdown",
      "metadata": {
        "id": "gqzJHf6TY3Sk"
      },
      "source": [
        "## Classification"
      ]
    },
    {
      "cell_type": "code",
      "metadata": {
        "id": "4Hwxkj7KGwbv",
        "colab": {
          "base_uri": "https://localhost:8080/"
        },
        "outputId": "cc5e351c-5c1f-4a3e-d35f-b6bbb392bb6e"
      },
      "source": [
        "from sklearn.neighbors import KNeighborsClassifier\n",
        "neigh = KNeighborsClassifier(n_neighbors=3)\n",
        "X = df[['x','y']] # Feature Matrix\n",
        "y = df ['Color']  # Target Value\n",
        "neigh.fit(X, y)"
      ],
      "execution_count": null,
      "outputs": [
        {
          "output_type": "execute_result",
          "data": {
            "text/plain": [
              "KNeighborsClassifier(algorithm='auto', leaf_size=30, metric='minkowski',\n",
              "                     metric_params=None, n_jobs=None, n_neighbors=3, p=2,\n",
              "                     weights='uniform')"
            ]
          },
          "metadata": {
            "tags": []
          },
          "execution_count": 2
        }
      ]
    },
    {
      "cell_type": "markdown",
      "metadata": {
        "id": "Xo2NSyhXdArg"
      },
      "source": [
        "### Classifying a new data point"
      ]
    },
    {
      "cell_type": "code",
      "metadata": {
        "id": "TZJ1mfkqc-mz",
        "outputId": "70748cb6-0a50-49b5-df87-3bebaaf67dde",
        "colab": {
          "base_uri": "https://localhost:8080/",
          "height": 298
        }
      },
      "source": [
        "new_point = [1, 1]\n",
        "print(\"Predicted Color:\",neigh.predict([new_point]))\n",
        "plt.scatter(df.x,df.y,c=df.Color)\n",
        "plt.grid(True)\n",
        "plt.scatter(new_point[0],new_point[1],c='black',marker='x')"
      ],
      "execution_count": null,
      "outputs": [
        {
          "output_type": "stream",
          "text": [
            "Predicted Color: ['blue']\n"
          ],
          "name": "stdout"
        },
        {
          "output_type": "execute_result",
          "data": {
            "text/plain": [
              "<matplotlib.collections.PathCollection at 0x7f27ef464750>"
            ]
          },
          "metadata": {
            "tags": []
          },
          "execution_count": 3
        },
        {
          "output_type": "display_data",
          "data": {
            "image/png": "[encoded data removed]",
            "text/plain": [
              "<Figure size 432x288 with 1 Axes>"
            ]
          },
          "metadata": {
            "tags": [],
            "needs_background": "light"
          }
        }
      ]
    },
    {
      "cell_type": "markdown",
      "metadata": {
        "id": "slySsSdpb3V5"
      },
      "source": [
        "## Regression"
      ]
    },
    {
      "cell_type": "code",
      "metadata": {
        "id": "SCt_V1_XaA8D",
        "outputId": "f8cc258c-5db6-4896-b1ec-ee692a2c0e1d",
        "colab": {
          "base_uri": "https://localhost:8080/",
          "height": 532
        }
      },
      "source": [
        "data_reg =\"\"\"\n",
        "x,y,Price\n",
        "-1,1,100\n",
        "0,1,50\n",
        "0,2,20\n",
        "1,-1,40\n",
        "1,0,30\n",
        "1,2,40\n",
        "2,2,70\n",
        "2,3,30\n",
        "\"\"\"\n",
        "\n",
        "df2 = pd.read_csv(StringIO(data_reg))\n",
        "plt.scatter(df2.x,df2.y,c=df2.Price)\n",
        "plt.grid(True)\n",
        "df2\n"
      ],
      "execution_count": null,
      "outputs": [
        {
          "output_type": "execute_result",
          "data": {
            "text/html": [
              "<div>\n",
              "<style scoped>\n",
              "    .dataframe tbody tr th:only-of-type {\n",
              "        vertical-align: middle;\n",
              "    }\n",
              "\n",
              "    .dataframe tbody tr th {\n",
              "        vertical-align: top;\n",
              "    }\n",
              "\n",
              "    .dataframe thead th {\n",
              "        text-align: right;\n",
              "    }\n",
              "</style>\n",
              "<table border=\"1\" class=\"dataframe\">\n",
              "  <thead>\n",
              "    <tr style=\"text-align: right;\">\n",
              "      <th></th>\n",
              "      <th>x</th>\n",
              "      <th>y</th>\n",
              "      <th>Price</th>\n",
              "    </tr>\n",
              "  </thead>\n",
              "  <tbody>\n",
              "    <tr>\n",
              "      <th>0</th>\n",
              "      <td>-1</td>\n",
              "      <td>1</td>\n",
              "      <td>100</td>\n",
              "    </tr>\n",
              "    <tr>\n",
              "      <th>1</th>\n",
              "      <td>0</td>\n",
              "      <td>1</td>\n",
              "      <td>50</td>\n",
              "    </tr>\n",
              "    <tr>\n",
              "      <th>2</th>\n",
              "      <td>0</td>\n",
              "      <td>2</td>\n",
              "      <td>20</td>\n",
              "    </tr>\n",
              "    <tr>\n",
              "      <th>3</th>\n",
              "      <td>1</td>\n",
              "      <td>-1</td>\n",
              "      <td>40</td>\n",
              "    </tr>\n",
              "    <tr>\n",
              "      <th>4</th>\n",
              "      <td>1</td>\n",
              "      <td>0</td>\n",
              "      <td>30</td>\n",
              "    </tr>\n",
              "    <tr>\n",
              "      <th>5</th>\n",
              "      <td>1</td>\n",
              "      <td>2</td>\n",
              "      <td>40</td>\n",
              "    </tr>\n",
              "    <tr>\n",
              "      <th>6</th>\n",
              "      <td>2</td>\n",
              "      <td>2</td>\n",
              "      <td>70</td>\n",
              "    </tr>\n",
              "    <tr>\n",
              "      <th>7</th>\n",
              "      <td>2</td>\n",
              "      <td>3</td>\n",
              "      <td>30</td>\n",
              "    </tr>\n",
              "  </tbody>\n",
              "</table>\n",
              "</div>"
            ],
            "text/plain": [
              "   x  y  Price\n",
              "0 -1  1    100\n",
              "1  0  1     50\n",
              "2  0  2     20\n",
              "3  1 -1     40\n",
              "4  1  0     30\n",
              "5  1  2     40\n",
              "6  2  2     70\n",
              "7  2  3     30"
            ]
          },
          "metadata": {
            "tags": []
          },
          "execution_count": 4
        },
        {
          "output_type": "display_data",
          "data": {
            "image/png": "[encoded data removed]",
            "text/plain": [
              "<Figure size 432x288 with 1 Axes>"
            ]
          },
          "metadata": {
            "tags": [],
            "needs_background": "light"
          }
        }
      ]
    },
    {
      "cell_type": "markdown",
      "metadata": {
        "id": "IJFe1-2Idr7B"
      },
      "source": [
        "### Training the k-nn Regressor"
      ]
    },
    {
      "cell_type": "code",
      "metadata": {
        "id": "ufR31PGOa6Sx",
        "outputId": "a7a0b59e-552c-4acc-f2bf-9b8e595a291c",
        "colab": {
          "base_uri": "https://localhost:8080/"
        }
      },
      "source": [
        "from sklearn.neighbors import KNeighborsRegressor\n",
        "neigh_reg = KNeighborsRegressor(n_neighbors=3)\n",
        "X = df2[['x','y']] # Feature Matrix\n",
        "y = df2 ['Price']  # Target Value\n",
        "neigh_reg.fit(X, y)"
      ],
      "execution_count": null,
      "outputs": [
        {
          "output_type": "execute_result",
          "data": {
            "text/plain": [
              "KNeighborsRegressor(algorithm='auto', leaf_size=30, metric='minkowski',\n",
              "                    metric_params=None, n_jobs=None, n_neighbors=3, p=2,\n",
              "                    weights='uniform')"
            ]
          },
          "metadata": {
            "tags": []
          },
          "execution_count": 5
        }
      ]
    },
    {
      "cell_type": "markdown",
      "metadata": {
        "id": "JabuCkzgeFwT"
      },
      "source": [
        "### Calculating the value for new data point"
      ]
    },
    {
      "cell_type": "code",
      "metadata": {
        "id": "-VwT4Y8ecu3t",
        "outputId": "10a621ec-cb22-4440-ef49-50298ed30941",
        "colab": {
          "base_uri": "https://localhost:8080/",
          "height": 298
        }
      },
      "source": [
        "new_point = [1, 1]\n",
        "print(\"Predicted Price:\",neigh_reg.predict([new_point]))\n",
        "plt.scatter(df2.x,df2.y,c=df2.Price)\n",
        "plt.grid(True)\n",
        "plt.scatter(new_point[0],new_point[1],c='black',marker='x')"
      ],
      "execution_count": null,
      "outputs": [
        {
          "output_type": "stream",
          "text": [
            "Predicted Price: [40.]\n"
          ],
          "name": "stdout"
        },
        {
          "output_type": "execute_result",
          "data": {
            "text/plain": [
              "<matplotlib.collections.PathCollection at 0x7f27ef384910>"
            ]
          },
          "metadata": {
            "tags": []
          },
          "execution_count": 6
        },
        {
          "output_type": "display_data",
          "data": {
            "image/png": "[encoded data removed]",
            "text/plain": [
              "<Figure size 432x288 with 1 Axes>"
            ]
          },
          "metadata": {
            "tags": [],
            "needs_background": "light"
          }
        }
      ]
    },
    {
      "cell_type": "markdown",
      "source": [
        "# kNN Example on IRIS dataset"
      ],
      "metadata": {
        "id": "7ep1uwElQ1st"
      }
    },
    {
      "cell_type": "code",
      "source": [
        "import numpy as np\n",
        "from sklearn.neighbors import KNeighborsClassifier\n",
        "from sklearn.metrics import accuracy_score, classification_report\n",
        "\n",
        "# Paste your TRAIN data here as a string\n",
        "train_data = \"\"\"\n",
        "6.7,3.3,5.7,2.5,Iris-virginica\n",
        "5.1,3.5,1.4,0.3,Iris-setosa\n",
        "5.5,2.6,4.4,1.2,Iris-versicolor\n",
        "5.2,3.5,1.5,0.2,Iris-setosa\n",
        "6.4,3.2,4.5,1.5,Iris-versicolor\n",
        "6.8,3.0,5.5,2.1,Iris-virginica\n",
        "5.5,2.3,4.0,1.3,Iris-versicolor\n",
        "6.3,2.3,4.4,1.3,Iris-versicolor\n",
        "5.4,3.4,1.7,0.2,Iris-setosa\n",
        "4.8,3.1,1.6,0.2,Iris-setosa\n",
        "6.7,3.1,5.6,2.4,Iris-virginica\n",
        "6.4,3.2,5.3,2.3,Iris-virginica\n",
        "6.1,2.6,5.6,1.4,Iris-virginica\n",
        "5.7,2.9,4.2,1.3,Iris-versicolor\n",
        "5.0,3.5,1.3,0.3,Iris-setosa\n",
        "6.4,2.7,5.3,1.9,Iris-virginica\n",
        "4.9,3.1,1.5,0.1,Iris-setosa\n",
        "7.7,2.8,6.7,2.0,Iris-virginica\n",
        "5.8,2.7,3.9,1.2,Iris-versicolor\n",
        "5.1,2.5,3.0,1.1,Iris-versicolor\n",
        "5.0,2.0,3.5,1.0,Iris-versicolor\n",
        "6.3,3.3,6.0,2.5,Iris-virginica\n",
        "4.5,2.3,1.3,0.3,Iris-setosa\n",
        "6.2,2.9,4.3,1.3,Iris-versicolor\n",
        "4.6,3.6,1.0,0.2,Iris-setosa\n",
        "6.1,3.0,4.9,1.8,Iris-virginica\n",
        "5.7,3.8,1.7,0.3,Iris-setosa\n",
        "4.7,3.2,1.3,0.2,Iris-setosa\n",
        "5.7,2.6,3.5,1.0,Iris-versicolor\n",
        "4.3,3.0,1.1,0.1,Iris-setosa\n",
        "6.7,3.0,5.2,2.3,Iris-virginica\n",
        "5.4,3.9,1.3,0.4,Iris-setosa\n",
        "7.6,3.0,6.6,2.1,Iris-virginica\n",
        "5.6,3.0,4.1,1.3,Iris-versicolor\n",
        "5.1,3.8,1.6,0.2,Iris-setosa\n",
        "6.2,3.4,5.4,2.3,Iris-virginica\n",
        "6.5,3.0,5.2,2.0,Iris-virginica\n",
        "4.8,3.4,1.9,0.2,Iris-setosa\n",
        "6.9,3.1,5.4,2.1,Iris-virginica\n",
        "6.0,2.9,4.5,1.5,Iris-versicolor\n",
        "5.5,2.4,3.7,1.0,Iris-versicolor\n",
        "5.5,2.5,4.0,1.3,Iris-versicolor\n",
        "5.9,3.0,5.1,1.8,Iris-virginica\n",
        "5.8,4.0,1.2,0.2,Iris-setosa\n",
        "4.6,3.1,1.5,0.2,Iris-setosa\n",
        "5.4,3.9,1.7,0.4,Iris-setosa\n",
        "4.6,3.2,1.4,0.2,Iris-setosa\n",
        "6.7,3.0,5.0,1.7,Iris-versicolor\n",
        "7.2,3.2,6.0,1.8,Iris-virginica\n",
        "6.2,2.2,4.5,1.5,Iris-versicolor\n",
        "5.0,3.2,1.2,0.2,Iris-setosa\n",
        "5.1,3.7,1.5,0.4,Iris-setosa\n",
        "6.3,2.8,5.1,1.5,Iris-virginica\n",
        "4.7,3.2,1.6,0.2,Iris-setosa\n",
        "6.5,2.8,4.6,1.5,Iris-versicolor\n",
        "6.3,2.5,5.0,1.9,Iris-virginica\n",
        "7.4,2.8,6.1,1.9,Iris-virginica\n",
        "5.6,2.5,3.9,1.1,Iris-versicolor\n",
        "4.9,3.1,1.5,0.1,Iris-setosa\n",
        "5.7,2.8,4.1,1.3,Iris-versicolor\n",
        "5.0,3.6,1.4,0.2,Iris-setosa\n",
        "5.8,2.7,5.1,1.9,Iris-virginica\n",
        "7.9,3.8,6.4,2.0,Iris-virginica\n",
        "5.4,3.7,1.5,0.2,Iris-setosa\n",
        "5.7,4.4,1.5,0.4,Iris-setosa\n",
        "5.7,3.0,4.2,1.2,Iris-versicolor\n",
        "6.1,2.8,4.7,1.2,Iris-versicolor\n",
        "7.7,3.8,6.7,2.2,Iris-virginica\n",
        "6.0,2.7,5.1,1.6,Iris-versicolor\n",
        "5.5,3.5,1.3,0.2,Iris-setosa\n",
        "4.9,2.4,3.3,1.0,Iris-versicolor\n",
        "6.4,2.8,5.6,2.1,Iris-virginica\n",
        "6.4,2.8,5.6,2.2,Iris-virginica\n",
        "5.2,3.4,1.4,0.2,Iris-setosa\n",
        "5.0,3.3,1.4,0.2,Iris-setosa\n",
        "5.9,3.2,4.8,1.8,Iris-versicolor\n",
        "4.9,3.0,1.4,0.2,Iris-setosa\n",
        "6.8,3.2,5.9,2.3,Iris-virginica\n",
        "5.0,3.4,1.6,0.4,Iris-setosa\n",
        "5.0,3.5,1.6,0.6,Iris-setosa\n",
        "5.4,3.4,1.5,0.4,Iris-setosa\n",
        "5.1,3.8,1.5,0.3,Iris-setosa\n",
        "6.3,3.4,5.6,2.4,Iris-virginica\n",
        "6.9,3.2,5.7,2.3,Iris-virginica\n",
        "6.5,3.2,5.1,2.0,Iris-virginica\n",
        "5.3,3.7,1.5,0.2,Iris-setosa\n",
        "6.6,2.9,4.6,1.3,Iris-versicolor\n",
        "\"\"\"\n",
        "\n",
        "# Paste your TEST data here as a string\n",
        "test_data = \"\"\"\n",
        "4.8,3.0,1.4,0.1,Iris-setosa\n",
        "6.1,2.9,4.7,1.4,Iris-versicolor\n",
        "5.0,3.0,1.6,0.2,Iris-setosa\n",
        "6.7,2.5,5.8,1.8,Iris-virginica\n",
        "5.0,2.3,3.3,1.0,Iris-versicolor\n",
        "6.0,3.0,4.8,1.8,Iris-virginica\n",
        "5.1,3.5,1.4,0.2,Iris-setosa\n",
        "4.9,3.1,1.5,0.1,Iris-setosa\n",
        "6.1,3.0,4.6,1.4,Iris-versicolor\n",
        "6.7,3.1,4.4,1.4,Iris-versicolor\n",
        "6.6,3.0,4.4,1.4,Iris-versicolor\n",
        "5.5,4.2,1.4,0.2,Iris-setosa\n",
        "5.8,2.8,5.1,2.4,Iris-virginica\n",
        "6.4,3.1,5.5,1.8,Iris-virginica\n",
        "6.0,2.2,5.0,1.5,Iris-virginica\n",
        "6.5,3.0,5.5,1.8,Iris-virginica\n",
        "6.0,2.2,4.0,1.0,Iris-versicolor\n",
        "6.1,2.8,4.0,1.3,Iris-versicolor\n",
        "6.9,3.1,4.9,1.5,Iris-versicolor\n",
        "5.8,2.6,4.0,1.2,Iris-versicolor\n",
        "\"\"\"\n",
        "\n",
        "def parse_data(data):\n",
        "    X, y = [], []\n",
        "    for line in data.strip().split('\\n'):\n",
        "        parts = line.strip().split(',')\n",
        "        if len(parts) != 5:\n",
        "            continue\n",
        "        X.append([float(p) for p in parts[:4]])\n",
        "        y.append(parts[4])\n",
        "    return np.array(X), np.array(y)\n",
        "\n",
        "X_train, y_train = parse_data(train_data)\n",
        "X_test, y_test = parse_data(test_data)\n",
        "\n",
        "# Create, train, and evaluate KNN\n",
        "knn = KNeighborsClassifier(n_neighbors=3)\n",
        "knn.fit(X_train, y_train)\n",
        "y_pred = knn.predict(X_test)\n",
        "\n",
        "print(\"Test Accuracy:\", accuracy_score(y_test, y_pred))\n",
        "print(\"\\nClassification Report:\\n\", classification_report(y_test, y_pred))"
      ],
      "metadata": {
        "id": "bBh2mrhuQ73i",
        "outputId": "e11d65f5-a066-4a8f-e70d-8466c0e0ffed",
        "colab": {
          "base_uri": "https://localhost:8080/"
        }
      },
      "execution_count": 4,
      "outputs": [
        {
          "output_type": "stream",
          "name": "stdout",
          "text": [
            "Test Accuracy: 0.95\n",
            "\n",
            "Classification Report:\n",
            "                  precision    recall  f1-score   support\n",
            "\n",
            "    Iris-setosa       1.00      1.00      1.00         5\n",
            "Iris-versicolor       0.90      1.00      0.95         9\n",
            " Iris-virginica       1.00      0.83      0.91         6\n",
            "\n",
            "       accuracy                           0.95        20\n",
            "      macro avg       0.97      0.94      0.95        20\n",
            "   weighted avg       0.96      0.95      0.95        20\n",
            "\n"
          ]
        }
      ]
    }
  ]
}